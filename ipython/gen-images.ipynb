{
 "cells": [
  {
   "cell_type": "markdown",
   "metadata": {},
   "source": [
    "### Plot for knockpy image"
   ]
  },
  {
   "cell_type": "code",
   "execution_count": 8,
   "metadata": {},
   "outputs": [],
   "source": [
    "import matplotlib.pyplot as plt\n",
    "def plot_W(kfilter, beta=None, ax=None, **kwargs):\n",
    "    sorted_inds = np.argsort(0-1*np.abs(kfilter.W))\n",
    "    sortW = kfilter.W[sorted_inds]\n",
    "    inds = np.arange(sortW.shape[0])\n",
    "    threshold_ind = np.argmin(np.abs(sortW) >= kfilter.threshold)\n",
    "    \n",
    "    if beta is None:\n",
    "        redinds = sortW <= 0\n",
    "        label1 = \"W < 0\"\n",
    "        label2 = \"W > 0\"\n",
    "    else:\n",
    "        redinds = beta == 0\n",
    "        redinds = redinds[sorted_inds]\n",
    "        label1 = \"null\"\n",
    "        label2 = \"non-null\"\n",
    "    blueinds = ~redinds.astype(bool)\n",
    "\n",
    "    if ax is not None:\n",
    "        fig, ax = plt.subplots(**kwargs)\n",
    "    ax.bar(\n",
    "        inds[redinds], sortW[redinds], color='red', label=label1\n",
    "    )\n",
    "    ax.bar(\n",
    "        inds[blueinds], sortW[blueinds], color='blue', label=label2\n",
    "    )\n",
    "\n",
    "    ax.axvline(\n",
    "        threshold_ind, color='black', linestyle='dashed', label='Threshold'\n",
    "    )\n",
    "    ax.legend()\n",
    "    return fig, ax\n",
    "\n",
    "#kfilter.threshold"
   ]
  },
  {
   "cell_type": "code",
   "execution_count": 50,
   "metadata": {},
   "outputs": [],
   "source": [
    "import numpy as np\n",
    "import knockpy\n",
    "dgproc = knockpy.dgp.DGP()\n",
    "dgproc.sample_data(n=450, p=100, sparsity=0.2, a=5, b=1, max_corr=0.9999)\n",
    "\n",
    "kfs = []\n",
    "methods = ['mvr']\n",
    "for method in methods:\n",
    "    kf = knockpy.knockoff_filter.KnockoffFilter(ksampler='fx', fstat='ols', knockoff_kwargs={'method':method})\n",
    "    kf.forward(X=dgproc.X, y=dgproc.y)\n",
    "    kfs.append(kf)"
   ]
  },
  {
   "cell_type": "code",
   "execution_count": 52,
   "metadata": {},
   "outputs": [
    {
     "data": {
      "image/png": "[encoded data removed]",
      "text/plain": [
       "<Figure size 432x144 with 1 Axes>"
      ]
     },
     "metadata": {
      "needs_background": "light"
     },
     "output_type": "display_data"
    }
   ],
   "source": [
    "fig, axs = plt.subplots(figsize=(6,2), nrows=len(methods))\n",
    "if len(methods) == 1:\n",
    "    axs = [axs]\n",
    "beta = dgproc.beta\n",
    "for ax, kfilter, method in zip(axs, kfs, methods):\n",
    "    sorted_inds = np.argsort(0-1*np.abs(kfilter.W))\n",
    "    sortW = kfilter.W[sorted_inds]\n",
    "    inds = np.arange(sortW.shape[0])\n",
    "    threshold_ind = np.argmin(np.abs(sortW) >= kfilter.threshold)\n",
    "    \n",
    "    if beta is None:\n",
    "        redinds = sortW <= 0\n",
    "        label1 = \"W < 0\"\n",
    "        label2 = \"W > 0\"\n",
    "    else:\n",
    "        redinds = beta == 0\n",
    "        redinds = redinds[sorted_inds]\n",
    "        label1 = \"null\"\n",
    "        label2 = \"non-null\"\n",
    "    blueinds = ~redinds.astype(bool)\n",
    "\n",
    "    ax.bar(\n",
    "        inds[redinds], sortW[redinds], color='red', label=label1\n",
    "    )\n",
    "    ax.bar(\n",
    "        inds[blueinds], sortW[blueinds], color='cornflowerblue', label=label2\n",
    "    )\n",
    "\n",
    "    ax.axvline(\n",
    "        threshold_ind, color='black', linestyle='dashed', label='Threshold'\n",
    "    )\n",
    "    if method == 'mvr':\n",
    "        pass\n",
    "        #ax.legend()\n",
    "\n",
    "plt.savefig(\"output_images/knockpy2.png\", dpi=500)"
   ]
  }
 ],
 "metadata": {
  "kernelspec": {
   "display_name": "Python 3.9",
   "language": "python",
   "name": "python3.9"
  },
  "language_info": {
   "codemirror_mode": {
    "name": "ipython",
    "version": 3
   },
   "file_extension": ".py",
   "mimetype": "text/x-python",
   "name": "python",
   "nbconvert_exporter": "python",
   "pygments_lexer": "ipython3",
   "version": "3.9.7"
  }
 },
 "nbformat": 4,
 "nbformat_minor": 2
}
