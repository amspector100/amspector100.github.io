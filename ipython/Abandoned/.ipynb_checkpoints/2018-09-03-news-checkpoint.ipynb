{
 "cells": [
  {
   "cell_type": "code",
   "execution_count": 3,
   "metadata": {},
   "outputs": [],
   "source": [
    "import pandas as pd\n",
    "import seaborn as sns\n",
    "import matplotlib.pyplot as plt\n",
    "\n",
    "news_data = pd.read_csv(\"data/abcnews-date-text.csv\")\n",
    "news_data['year'] = news_data['publish_date'].apply(lambda x: str(x)[0:4]).astype(int)\n",
    "\n",
    "talk_data = pd.read_csv(\"data/TED_Talks_by_ID.csv\", sep = '\\t')\n",
    "talk_data = talk_data.rename(columns = {'year_filmed':'year'})"
   ]
  },
  {
   "cell_type": "code",
   "execution_count": 4,
   "metadata": {},
   "outputs": [
    {
     "name": "stdout",
     "output_type": "stream",
     "text": [
      "['' '3D printing' 'AI' 'AIDS' 'Addiction' 'Africa' \"Alzheimer's\"\n",
      " 'Anthropocene' 'Asia' 'Autism spectrum disorder' 'Beauty' 'Biodiversity'\n",
      " 'Biology' 'Biomechanics' 'Biosphere' 'Botany' 'Brand' 'Brazil' 'Buddhism'\n",
      " 'CRISPR' 'Christianity' 'Communication' 'Community' 'DNA' 'Debate'\n",
      " 'Ecology' 'Egypt' 'Environment' 'Europe' 'Foreign Policy'\n",
      " 'Gender spectrum' 'God' 'Google' 'Green' 'HIV' 'Identity' 'Internet'\n",
      " 'Iran' 'Islam' 'LGBT' 'Language' 'Latin America' 'Life' 'MacArthur grant'\n",
      " 'Mars' 'Middle East' 'Moon' 'NASA' 'Nature' 'New York' 'Nobel Prize'\n",
      " 'One Laptop Per Child' 'PTSD' 'Planets' 'Plants' 'Science' 'Senses'\n",
      " 'Slavery' 'South America' 'String theory' 'Surgery' 'Surveillance'\n",
      " 'Syria' 'TED Books' 'TED Brain Trust' 'TED Fellows' 'TED Prize'\n",
      " 'TED Residency' 'TED en Español' 'TED en espanol' 'TED prize'\n",
      " 'TED residency' 'TED-Ed' 'TEDMED' 'TEDYouth' 'TEDx' 'Transgender' 'Trees'\n",
      " 'United States' 'Vaccines' 'Wikipedia' 'activism' 'addiction' 'adventure'\n",
      " 'advertising' 'africa' 'aging' 'agriculture' 'aircraft' 'algorithm'\n",
      " 'alternative energy' 'ancient world' 'animals' 'animation' 'anthropology'\n",
      " 'ants' 'apes' 'archaeology' 'architecture' 'art' 'arts' 'asteroid'\n",
      " 'astronomy' 'atheism' 'augmented reality' 'autism spectrum disorder'\n",
      " 'bacteria' 'beauty' 'bees' 'behavioral economics' 'big bang'\n",
      " 'big problems' 'biodiversity' 'bioethics' 'biology' 'biomechanics'\n",
      " 'biomimicry' 'biosphere' 'biotech' 'birds' 'blockchain' 'body language'\n",
      " 'books' 'botany' 'brain' 'bullying' 'business' 'cancer' 'capitalism'\n",
      " 'cars' 'cello' 'charter for compassion' 'chemistry' 'children' 'china'\n",
      " 'choice' 'cities' 'climate change' 'cloud' 'code' 'cognitive science'\n",
      " 'collaboration' 'comedy' 'communication' 'community' 'compassion'\n",
      " 'complexity' 'composing' 'computers' 'conducting' 'consciousness'\n",
      " 'conservation' 'consumerism' 'corruption' 'cosmos' 'creativity' 'crime'\n",
      " 'criminal justice' 'crowdsourcing' 'culture' 'curiosity' 'cyborg' 'dance'\n",
      " 'dark matter' 'data' 'death' 'decision-making' 'deextinction' 'demo'\n",
      " 'democracy' 'depression' 'design' 'development' 'dinosaurs' 'disability'\n",
      " 'disaster relief' 'discovery' 'disease' 'driverless cars' 'drones'\n",
      " 'ebola' 'ecology' 'economics' 'education' 'empathy' 'energy'\n",
      " 'engineering' 'entertainment' 'entrepreneur' 'environment' 'epidemiology'\n",
      " 'evil' 'evolution' 'exoskeleton' 'exploration' 'extraterrestrial life'\n",
      " 'extreme sports' 'failure' 'faith' 'family' 'farming' 'fashion' 'fear'\n",
      " 'feminism' 'film' 'finance' 'fish' 'flight' 'food' 'forensics'\n",
      " 'friendship' 'funny' 'future' 'gaming' 'garden' 'gay' 'gender'\n",
      " 'gender equality' 'gender spectrum' 'genetics' 'geology' 'glacier'\n",
      " 'global development' 'global issues' 'goal-setting' 'government'\n",
      " 'grammar' 'green' 'guitar' 'guns' 'hack' 'happiness' 'health'\n",
      " 'health care' 'hearing' 'heart health' 'history' 'human origins'\n",
      " 'humanity' 'humor' 'identity' 'illness' 'illusion' 'immigration' 'india'\n",
      " 'industrial design' 'inequality' 'infrastructure' 'innovation' 'insects'\n",
      " 'intelligence' 'interface design' 'interview' 'invention' 'investment'\n",
      " 'iraq' 'jazz' 'journalism' 'language' 'law' 'leadership' 'library' 'life'\n",
      " 'literature' 'live music' 'love' 'machine learning' 'magic'\n",
      " 'manufacturing' 'map' 'marketing' 'materials' 'math' 'media'\n",
      " 'medical imaging' 'medical research' 'medicine' 'meditation' 'meme'\n",
      " 'memory' 'men' 'mental health' 'microbes' 'microbiology' 'microfinance'\n",
      " 'microsoft' 'military' 'mind' 'mindfulness' 'mining' 'mission blue'\n",
      " 'mobility' 'molecular biology' 'money' 'monkeys' 'morality' 'motivation'\n",
      " 'movies' 'museums' 'music' 'nanoscale' 'narcotics' 'natural disaster'\n",
      " 'natural resources' 'nature' 'neuroscience' 'news' 'nonviolence' 'novel'\n",
      " 'nuclear energy' 'nuclear weapons' 'obesity' 'oceans' 'oil'\n",
      " 'online video' 'open-source' 'origami' 'pain' 'painting' 'paleontology'\n",
      " 'pandemic' 'parenting' 'peace' 'performance' 'performance art'\n",
      " 'personal growth' 'personality' 'pharmaceuticals' 'philanthropy'\n",
      " 'philosophy' 'photography' 'physics' 'physiology' 'piano' 'planets'\n",
      " 'plants' 'plastic' 'play' 'poetry' 'policy' 'politics' 'pollution'\n",
      " 'population' 'potential' 'poverty' 'prediction' 'pregnancy'\n",
      " 'presentation' 'primates' 'prison' 'privacy' 'product design'\n",
      " 'productivity' 'programming' 'prosthetics' 'protests' 'psychology'\n",
      " 'public health' 'public spaces' 'race' 'refugees' 'relationships'\n",
      " 'religion' 'resources' 'robots' 'rocket science' 'sanitation' 'science'\n",
      " 'science and art' 'security' 'self' 'sex' 'sexual violence' 'shopping'\n",
      " 'sight' 'simplicity' 'singer' 'skateboarding' 'slavery' 'sleep' 'smell'\n",
      " 'social change' 'social media' 'society' 'sociology' 'software' 'solar'\n",
      " 'solar energy' 'solar system' 'sound' 'space' 'speech' 'spoken word'\n",
      " 'sports' 'state-building' 'statistics' 'storytelling' 'street art'\n",
      " 'student' 'submarine' 'success' 'suicide' 'sustainability'\n",
      " 'synthetic biology' 'teaching' 'technology' 'telecom' 'telescopes'\n",
      " 'television' 'terrorism' 'testing' 'theater' 'time' 'toy' 'trafficking'\n",
      " 'transgender' 'transportation' 'travel' 'trees' 'trust' 'typography'\n",
      " 'universe' 'urban' 'urban planning' 'violence' 'violin' 'virtual reality'\n",
      " 'virus' 'visualizations' 'vocals' 'vulnerability' 'war' 'water' 'weather'\n",
      " 'web' 'wikipedia' 'wind energy' 'women' 'women in business' 'work'\n",
      " 'work-life balance' 'world cultures' 'writing' 'wunderkind' 'yesallwomen'\n",
      " 'youth']\n"
     ]
    }
   ],
   "source": [
    "# Find the unique tags - this is just useful to help me pick the right ones\n",
    "\n",
    "unique_tags = [row['tags'].split(',') for ind, row in talk_data.iterrows()]\n",
    "\n",
    "def strip_space(astring):\n",
    "    try:\n",
    "        if astring[0] == ' ':\n",
    "            return astring[1:]\n",
    "        else:\n",
    "            return astring\n",
    "    except IndexError:\n",
    "        return astring\n",
    "    \n",
    "unique_tags = pd.unique(pd.Series([strip_space(tag) for l in unique_tags for tag in l]).sort_values())\n",
    "print(unique_tags)"
   ]
  },
  {
   "cell_type": "code",
   "execution_count": 5,
   "metadata": {},
   "outputs": [
    {
     "name": "stdout",
     "output_type": "stream",
     "text": [
      " math ,math\n",
      " data ,data\n",
      " statistic ,statistic\n"
     ]
    }
   ],
   "source": [
    "# Set global keywords\n",
    "keywords = ['math', 'data', 'statistic']\n",
    "\n",
    "for kw in keywords:\n",
    "    kw_spaced = ' ' + kw\n",
    "    kw_commad = ',' + kw\n",
    "    print(kw_spaced, kw_commad)\n",
    "    news_data[kw] = news_data['headline_text'].str.contains(kw_spaced)\n",
    "    talk_data[kw] = talk_data['tags'].str.contains(kw_spaced) | talk_data['tags'].str.contains(',' + kw)\n",
    "    \n",
    "news_data['source'] = 'News Headlines'\n",
    "talk_data['source'] = 'Ted Talks'\n",
    "keywords.extend(['year', 'source'])\n",
    "news_data = news_data[keywords]\n",
    "talk_data = talk_data[keywords]\n",
    "talk_data = talk_data.loc[talk_data['year'].astype(int) > 2002]\n"
   ]
  },
  {
   "cell_type": "code",
   "execution_count": 6,
   "metadata": {},
   "outputs": [],
   "source": [
    "all_data = pd.concat([news_data, talk_data], axis = 0)\n",
    "all_data = all_data.melt(id_vars = ['year', 'source'], var_name = 'Word', value_name = 'Frequency')\n",
    "all_data = all_data.rename(columns = {'year':'Year', 'source':'Source'})\n"
   ]
  },
  {
   "cell_type": "code",
   "execution_count": null,
   "metadata": {},
   "outputs": [],
   "source": [
    "# First plot with both\n",
    "sns.set_style(\"white\")\n",
    "plot = sns.relplot(x = 'Year', y = 'Frequency', hue = 'Word', col = 'Source', \n",
    "                   facet_kws = {'sharex':True, 'sharey':False},\n",
    "                   palette = 'Paired', kind = 'line', data = all_data)\n",
    "\n",
    "fig = plot.fig\n",
    "fig.set_size_inches(12, 5)\n",
    "#fig.savefig(\"frequencies.png\", dpi = 1000, bbox_inches='tight')\n"
   ]
  },
  {
   "cell_type": "code",
   "execution_count": null,
   "metadata": {},
   "outputs": [],
   "source": [
    "# Second plot with just news data\n",
    "sns.set(style = 'white', font_scale = 1.5)\n",
    "headlines = all_data.loc[all_data['Source'] == 'News Headlines']\n",
    "\n",
    "plot = sns.lineplot(x = 'Year', y = 'Frequency', hue = 'Word',\n",
    "                   palette = 'Paired', data = headlines)\n",
    "plot.set(title = 'Frequency of 1-grams (Words) in ABC News Headlines')\n",
    "\n",
    "fig = plot.get_figure()\n",
    "fig.set_size_inches(12, 5)\n",
    "fig.savefig(\"frequencies-v2.svg\", bbox_inches='tight')"
   ]
  },
  {
   "cell_type": "code",
   "execution_count": null,
   "metadata": {},
   "outputs": [],
   "source": []
  }
 ],
 "metadata": {
  "kernelspec": {
   "display_name": "Python 3",
   "language": "python",
   "name": "python3"
  },
  "language_info": {
   "codemirror_mode": {
    "name": "ipython",
    "version": 3
   },
   "file_extension": ".py",
   "mimetype": "text/x-python",
   "name": "python",
   "nbconvert_exporter": "python",
   "pygments_lexer": "ipython3",
   "version": "3.6.3"
  }
 },
 "nbformat": 4,
 "nbformat_minor": 2
}
